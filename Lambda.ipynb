{
 "cells": [
  {
   "cell_type": "code",
   "execution_count": 4,
   "metadata": {},
   "outputs": [
    {
     "name": "stdout",
     "output_type": "stream",
     "text": [
      "8\n"
     ]
    }
   ],
   "source": [
    "tripo = lambda x: x**3\n",
    "print(tripo(2))"
   ]
  },
  {
   "cell_type": "code",
   "execution_count": 6,
   "metadata": {},
   "outputs": [
    {
     "name": "stdout",
     "output_type": "stream",
     "text": [
      "Nome: Anny\n",
      "Sobrenome: Dias\n"
     ]
    }
   ],
   "source": [
    "nome_completo = lambda nome, sobrenome: f'Nome: {nome}\\nSobrenome: {sobrenome}'\n",
    "\n",
    "print(nome_completo('Anny', 'Dias'))"
   ]
  },
  {
   "cell_type": "code",
   "execution_count": 11,
   "metadata": {},
   "outputs": [
    {
     "name": "stdout",
     "output_type": "stream",
     "text": [
      "True\n",
      "False\n",
      "True\n"
     ]
    }
   ],
   "source": [
    "comeca_com_a = lambda x: True if x.startswith('A') else False\n",
    "\n",
    "print(comeca_com_a('Anny'))\n",
    "print(comeca_com_a('Luana'))\n",
    "print(comeca_com_a('André'))"
   ]
  },
  {
   "cell_type": "code",
   "execution_count": 13,
   "metadata": {},
   "outputs": [
    {
     "name": "stdout",
     "output_type": "stream",
     "text": [
      "criança\n",
      "adolescente\n",
      "adulto\n"
     ]
    }
   ],
   "source": [
    "classificar_idade = lambda idade: 'criança' if idade < 13 else ('adolescente' if idade <18 else 'adulto')\n",
    "\n",
    "print(classificar_idade(7))\n",
    "print(classificar_idade(17))\n",
    "print(classificar_idade(57))"
   ]
  },
  {
   "cell_type": "code",
   "execution_count": null,
   "metadata": {},
   "outputs": [],
   "source": [
    "\"\"\"\n",
    "Crie uma estrutura criando o parâmetro lambda para os seguintes casos:\n",
    "    1. Crie um algoritmo para calcular uma equção do primeiro grau. Equação = 10x * 5\n",
    "    2. Crie um algoritmo para calcular a força em newtons usando duas váriaveis massa e aceleração (F = m * a).\n",
    "    3. Crie um  algoritmo para calcular a temperatura em graus (C) e fahereit (F) usando as variaveis temp, escala. \n",
    "        converter C em F é: (temp - 32) * (9/5)\n",
    "        converter F em C é: (temp - 9/5) + 32\n",
    "\"\"\""
   ]
  },
  {
   "cell_type": "code",
   "execution_count": 16,
   "metadata": {},
   "outputs": [
    {
     "name": "stdout",
     "output_type": "stream",
     "text": [
      "100\n"
     ]
    }
   ],
   "source": [
    "#1\n",
    "equacao = lambda x: (10*x) * 5\n",
    "print(equacao(2))"
   ]
  },
  {
   "cell_type": "code",
   "execution_count": 17,
   "metadata": {},
   "outputs": [
    {
     "name": "stdout",
     "output_type": "stream",
     "text": [
      "6\n"
     ]
    }
   ],
   "source": [
    "#2\n",
    "calcular_forca = lambda massa, aceleracao: massa * aceleracao\n",
    "print(calcular_forca(2, 3))\n"
   ]
  },
  {
   "cell_type": "code",
   "execution_count": 2,
   "metadata": {},
   "outputs": [
    {
     "name": "stdout",
     "output_type": "stream",
     "text": [
      "56.2\n",
      "43.2\n",
      "Escala inválida\n"
     ]
    },
    {
     "data": {
      "text/plain": [
       "'calcular_C_em_F = lambda temp: (temp - 32) * (9/5)\\nprint(calcular_C_em_F(26))\\ncalcular_F_em_C = lambda temp: (temp - 9/5) + 32\\nprint(calcular_F_em_C(-3.3))'"
      ]
     },
     "execution_count": 2,
     "metadata": {},
     "output_type": "execute_result"
    }
   ],
   "source": [
    "#3\n",
    "converter_temperatura = lambda temp, escala: (temp - 9/5) + 32 if escala == 'C' else (temp - 32) * (9/5) if escala == 'F' else 'Escala inválida'\n",
    "print(converter_temperatura(26, 'C'))\n",
    "print(converter_temperatura(56, 'F'))\n",
    "print(converter_temperatura(15, 'K'))\n",
    "\n",
    "\n",
    "\n",
    "'''calcular_C_em_F = lambda temp: (temp - 32) * (9/5)\n",
    "print(calcular_C_em_F(26))\n",
    "calcular_F_em_C = lambda temp: (temp - 9/5) + 32\n",
    "print(calcular_F_em_C(-3.3))'''\n"
   ]
  },
  {
   "cell_type": "code",
   "execution_count": 3,
   "metadata": {},
   "outputs": [
    {
     "name": "stdout",
     "output_type": "stream",
     "text": [
      "9\n"
     ]
    }
   ],
   "source": [
    "\"\"\" \n",
    "Exercicio 4 - função que cria função\n",
    "\n",
    "    - utilizar função def chamando parammetros a , e c\n",
    "    - retornar a função lambda com o parametro x e a, b e c\n",
    "    - testar a função\n",
    "\"\"\"\n",
    "\n",
    "def construcao_quadratica(a, b, c):\n",
    "    #Retornar uma função do segundo grau\n",
    "    return lambda x: (a*x**2) + (x*b) + c\n",
    "\n",
    "f = construcao_quadratica(2, 3, -5)\n",
    "print(f(2))"
   ]
  },
  {
   "cell_type": "code",
   "execution_count": 5,
   "metadata": {},
   "outputs": [
    {
     "name": "stdout",
     "output_type": "stream",
     "text": [
      "7\n"
     ]
    },
    {
     "data": {
      "text/plain": [
       "2.6"
      ]
     },
     "execution_count": 5,
     "metadata": {},
     "output_type": "execute_result"
    }
   ],
   "source": [
    "'''\n",
    "Exercicio 5 \n",
    "    Crie uma função de um uma função para calcular o resultado final de uma equação do primeiro grau, \n",
    "    de tal forma que a função def tenha dois parâmetros e a função lambda um parâmetro.\n",
    "    \n",
    "    Crie um programa para retornar uma função para calcular a média ponderada\n",
    "'''\n",
    "\n",
    "def calcular_resultado(a, b):\n",
    "    #Retornar uma função do primeiro grau\n",
    "    return lambda x: (a*x) + (b)\n",
    "\n",
    "f = calcular_resultado(2, 3)\n",
    "print(f(2))\n",
    "\n",
    "def media_ponderada(peso1, peso2):\n",
    "    return lambda x, y: (x*peso1 + y*peso2) / (peso1 + peso2)\n",
    "\n",
    "resultado = media_ponderada(4, 6)\n",
    "resultado_media_ponderada = resultado(2, 3)\n",
    "resultado_media_ponderada"
   ]
  }
 ],
 "metadata": {
  "kernelspec": {
   "display_name": "Python 3",
   "language": "python",
   "name": "python3"
  },
  "language_info": {
   "codemirror_mode": {
    "name": "ipython",
    "version": 3
   },
   "file_extension": ".py",
   "mimetype": "text/x-python",
   "name": "python",
   "nbconvert_exporter": "python",
   "pygments_lexer": "ipython3",
   "version": "3.11.4"
  },
  "orig_nbformat": 4
 },
 "nbformat": 4,
 "nbformat_minor": 2
}
